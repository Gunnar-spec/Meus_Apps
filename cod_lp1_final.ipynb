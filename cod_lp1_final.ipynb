{
 "cells": [
  {
   "cell_type": "code",
   "execution_count": 1,
   "metadata": {},
   "outputs": [
    {
     "name": "stderr",
     "output_type": "stream",
     "text": [
      "2023-07-30 11:41:16.558 \n",
      "  \u001b[33m\u001b[1mWarning:\u001b[0m to view this Streamlit app on a browser, run it with the following\n",
      "  command:\n",
      "\n",
      "    streamlit run C:\\Users\\Ipurukari\\AppData\\Roaming\\Python\\Python311\\site-packages\\ipykernel_launcher.py [ARGUMENTS]\n"
     ]
    },
    {
     "data": {
      "text/plain": [
       "<Figure size 640x480 with 0 Axes>"
      ]
     },
     "metadata": {},
     "output_type": "display_data"
    }
   ],
   "source": [
    "import streamlit as st\n",
    "import pandas as pd\n",
    "import matplotlib.pyplot as plt\n",
    "\n",
    "# Função para converter avaliações de 1 a 5 em 100 a 500\n",
    "def converter_avaliacao(valor):\n",
    "    return valor * 100\n",
    "\n",
    "# Função para calcular o valor final do imóvel\n",
    "def calcular_valor_imovel(avaliacao_inicial, saude, seguranca, educacao, lazer, comercial):\n",
    "    descontos = (saude + seguranca + educacao + lazer + comercial) / 5\n",
    "    valor_final = avaliacao_inicial - descontos\n",
    "    return descontos, valor_final\n",
    "\n",
    "# Função para criar o gráfico de linha\n",
    "def exibir_grafico(avaliacoes, descontos):\n",
    "    categorias = [\"Saúde\", \"Segurança\", \"Educação\", \"Lazer e Diversão\", \"Comercial\"]\n",
    "    \n",
    "    plt.plot(categorias, avaliacoes, marker='o', linestyle='-', color='b', label='Avaliações')\n",
    "    plt.plot(categorias, descontos, marker='o', linestyle='-', color='r', label='Descontos')\n",
    "    \n",
    "    plt.xlabel('Categorias')\n",
    "    plt.ylabel('Avaliações/Descontos')\n",
    "    plt.title('Avaliações e Descontos do Imóvel')\n",
    "    plt.legend()\n",
    "    plt.grid(True)\n",
    "    st.pyplot()\n",
    "\n",
    "# Configurações da página do Streamlit\n",
    "st.set_page_config(page_title=\"Avaliação de Imóvel\", layout=\"wide\")\n",
    "\n",
    "# Título e descrição da página\n",
    "st.title(\"Avaliação de Imóvel\")\n",
    "st.write(\"Para uma melhor padronização, utilize a escala de 1 a 5, onde 1 indica péssimo e 5 indica ótimo.\")\n",
    "\n",
    "# Obter avaliações do usuário\n",
    "avaliacao_inicial = st.number_input(\"Informe o valor da avaliação inicial do imóvel:\", min_value=0.0)\n",
    "saude = st.slider(\"Avaliação de Saúde:\", min_value=1, max_value=5, step=1, value=3)\n",
    "seguranca = st.slider(\"Avaliação de Segurança:\", min_value=1, max_value=5, step=1, value=3)\n",
    "educacao = st.slider(\"Avaliação de Educação:\", min_value=1, max_value=5, step=1, value=3)\n",
    "lazer = st.slider(\"Avaliação de Lazer e Diversão:\", min_value=1, max_value=5, step=1, value=3)\n",
    "comercial = st.slider(\"Avaliação Comercial:\", min_value=1, max_value=5, step=1, value=3)\n",
    "\n",
    "# Converter as avaliações de 1 a 5 para 100 a 500\n",
    "avaliacao_inicial = converter_avaliacao(avaliacao_inicial)\n",
    "saude = converter_avaliacao(saude)\n",
    "seguranca = converter_avaliacao(seguranca)\n",
    "educacao = converter_avaliacao(educacao)\n",
    "lazer = converter_avaliacao(lazer)\n",
    "comercial = converter_avaliacao(comercial)\n",
    "\n",
    "# Calcular o valor final do imóvel\n",
    "descontos, valor_final = calcular_valor_imovel(avaliacao_inicial, saude, seguranca, educacao, lazer, comercial)\n",
    "\n",
    "# Exibir as informações\n",
    "st.write(f\"Valor dos Descontos: {descontos:.2f}\")\n",
    "st.write(f\"Valor Final: {valor_final:.2f}\")\n",
    "\n",
    "# Exibir o gráfico de linha\n",
    "avaliacoes = [saude, seguranca, educacao, lazer, comercial]\n",
    "exibir_grafico(avaliacoes, [descontos] * len(avaliacoes))\n"
   ]
  }
 ],
 "metadata": {
  "kernelspec": {
   "display_name": "Python 3",
   "language": "python",
   "name": "python3"
  },
  "language_info": {
   "codemirror_mode": {
    "name": "ipython",
    "version": 3
   },
   "file_extension": ".py",
   "mimetype": "text/x-python",
   "name": "python",
   "nbconvert_exporter": "python",
   "pygments_lexer": "ipython3",
   "version": "3.11.3"
  },
  "orig_nbformat": 4
 },
 "nbformat": 4,
 "nbformat_minor": 2
}
